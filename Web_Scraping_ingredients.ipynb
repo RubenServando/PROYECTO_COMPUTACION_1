{
  "nbformat": 4,
  "nbformat_minor": 0,
  "metadata": {
    "colab": {
      "provenance": [],
      "authorship_tag": "ABX9TyPWJEJYIe0FSz706ObWb079",
      "include_colab_link": true
    },
    "kernelspec": {
      "name": "python3",
      "display_name": "Python 3"
    },
    "language_info": {
      "name": "python"
    }
  },
  "cells": [
    {
      "cell_type": "markdown",
      "metadata": {
        "id": "view-in-github",
        "colab_type": "text"
      },
      "source": [
        "<a href=\"https://colab.research.google.com/github/RubenServando/PROYECTO_COMPUTACION_1/blob/Web-Scraping-ingredients/Web_Scraping_ingredients.ipynb\" target=\"_parent\"><img src=\"https://colab.research.google.com/assets/colab-badge.svg\" alt=\"Open In Colab\"/></a>"
      ]
    },
    {
      "cell_type": "code",
      "source": [
        "# Importing the required libraries.\n",
        "import requests\n",
        "from bs4 import BeautifulSoup\n",
        "\n",
        "url_base = \"https://www.cocinista.es/web/es/enciclopedia-cocinista/ingredientes-del-mundo.html?npag=\"\n",
        "ingredients = []\n",
        "for page_num in range(1,18):\n",
        "  url = url_base + str(page_num)\n",
        "  request = requests.get(url)\n",
        "  soup = BeautifulSoup(request.content, \"html.parser\")\n",
        "  content_card = soup.find_all(class_=\"elemento ingrediente\")\n",
        "\n",
        "  for ingredient in content_card:\n",
        "    ingredients.append(ingredient.h2.text)\n",
        "\n",
        "print(ingredients)\n"
      ],
      "metadata": {
        "colab": {
          "base_uri": "https://localhost:8080/"
        },
        "id": "4PN_UrhbnOMd",
        "outputId": "a9387b66-94e6-435a-e3d9-e51550e3c69f"
      },
      "execution_count": 27,
      "outputs": [
        {
          "output_type": "stream",
          "name": "stdout",
          "text": [
            "['Aceite de almendras', 'Aceite de argán', 'Aceite de arroz', 'Aceite de Cacahuete', 'Aceite de chiles', 'Aceite de coco', 'Aceite de Girasol', 'Aceite de Oliva', 'Aceite de sésamo', 'Aceite de Soja', 'Acelgas', 'Acerola', 'Agua de Azahar', 'Agua de coco', 'Agua de kewra', 'Agua de rosas', 'Aguacate', 'Ají amarillo', 'Ají Panca', 'Ajo en polvo', 'Ajo negro', 'Ajvar', 'Alga hijiki', 'Almidón', 'Almidón de Tapioca', 'Amaranto', 'Anacardos', 'Arame', 'Arroces para risotto o arroz meloso', 'Arroz Basmati', 'Arroz glutinoso', 'Arroz jasmine', 'Arroz negro', 'Arroz para sushi', 'Asafétida', 'Azúcar Candi', 'Azúcar de Coco', 'Azúcar de palma', 'Azúcar integral de caña', 'Azúcar moreno', 'Azúcar muscovado', 'Azuki', 'Baharat', 'Banchan coreanos', 'Bebida energética Carabao', 'Bergamota', 'Boniato', 'Botones de Rosa', 'Brotes de bambú', 'Brotes de soja', 'Bulgur', 'Buttermilk', 'Castañas de agua', 'Cebolla de primavera', 'Chalotas', 'Chatni, Achaar y Raita', 'Chile ancho', 'Chile de árbol', 'Chile en polvo', 'Chile guajillo', 'Chile pasilla', 'Chiles chipotle', 'Chucrut (choucroute o sauerkraut)', 'Chuño', 'Chutney', 'Coco', 'Col rizada o Kale', 'Cola de pescado', 'Cuajo de cardo', 'Cuajo de ternera', 'Cuitlacoche', 'Cultivos de kéfir', 'Cultivos y mohos lácticos', 'Curry Massaman', 'Cuscús', 'Daikon', 'Dangmyeon', 'Dashi (caldos japoneses)', 'Diferencia entre couscous y bulgur', 'Diferencia entre la fécula y el almidón', 'Dulce de leche', 'Duqqa (o dukkah)', 'Egusi', 'El té', 'Espelta', 'Estevia o Stevia', 'Extracto de levadura', 'Farro', 'Fécula', 'Fermento de yogur de Bulgaria', 'Fermentos Mesófilos', 'Fermentos para nata agria', 'Fermentos para yogur con bifidus', 'Fermentos Termófilos', 'Fideos de cristal', 'Fideos shirataki', 'Flor de azahar', 'Flor de hibiscus', 'Flor de sal', 'Frijoles', 'Frijoles refritos mexicanos', 'Furikake', 'Garam Masala', 'Geotrichum candidum', 'Germen de trigo', 'Ghee', 'Glutamato monosódico', 'Gluten', 'Gochu', 'Gochujang', 'Gofio', 'Gomasio', 'Guandú', 'Guisante o arveja', 'Harina de almortas', 'Harina de altramuz', 'Harina de arroz', 'Harina de coco', 'Harina de fuerza', 'Harina de garbanzo', 'Harina de maíz', 'Harina de soja', 'Harina de yuca', 'Harina para chapati', 'Hierbas chinas para sopa', 'Ho fun', 'Hoja de parra', 'Hojas de kaffir', 'Hojas de limonar', 'Hojas de mazorca de maíz', 'Huevo', 'Ikan Bilis', 'Jarabe de agave', 'Jarabe de maíz', 'Jengibre', 'Jengibre cristalizado', 'Jengibre encurtido', 'Jengibre encurtido (gari) blanco o rosa', 'Judias Mungo', 'Katsuobushi', 'Kimchi', 'Kizami Nori', 'Kombu', 'Leche de coco', 'Lenteja Du Puy', 'Lentejas', 'Lentejas rojas', 'Levadura', 'Levadura para hacer cerveza', 'Lichi', 'Lima Kaffir', 'Limas y limones: similitudes y diferencias', 'Lino', 'Maderas para ahumar de Smokey Olive Wood ', 'Maíz baby', 'Maíz cancha', 'Maíz chulpi', 'Maíz en copos', 'Maíz morado', 'Maíz mote', 'Malva', 'Mango Alphonso', 'Mantequilla clarificada', 'Mantequilla de cacahuetes', 'Masalas de la India', 'Mazapán', 'Mei fun', 'Melaza de granada', 'Mezcla cajún', 'Mezcla de curry', 'Mezcla de curry Panang', 'Mezcla jambalaya', 'Mezcla para Kimchi', 'Mezcla para satay', 'Mezcla ras el hanout', 'Mezcla tandoori', 'Mijo', 'Miso', 'Mojos canarios', 'Mole', 'Ñame', 'Niboshi', 'Nigari', 'Nopales', 'Ñoras', 'Nori', 'Ogbono', 'Ojo de dragón', 'Okra', 'Oreja de madera', 'Pak Choi', 'Palmito', 'Paloduz o palo de regaliz', 'Palomitas', 'Pan de gambas', 'Panela', 'Panko', 'Papa seca', 'Papadom', 'Papel de arroz', 'Pasta de almendra', 'Pasta de alubias fermentada', 'Pasta de arroz', 'Pasta de avellanas', 'Pasta de chiles', 'Pasta de gambas', 'Pastas asiáticas', 'Penicillium Camemberti', 'Penicillium Roqueforti', 'Pimienta cubeba de Java', 'Pimiento de Espelette', 'Pimientos choriceros', 'Pisco', 'Pistacho', 'Plátano macho', 'Polenta', 'Preguntas y respuestas sobre los huevos', 'Preparado de curry amarillo', 'Preparado de curry rojo', 'Preparado de curry verde', 'Preparado para Butter Chicken', 'Preparado para curry Vindaloo', 'Preparado para Pad Thai', 'Preparado para Tom Yum', 'Ptitim', 'Quínoa', 'Rábano picante', 'Rambután', 'Ramen', 'Rebozado para tempura', 'Resumen de dumplings  (rellenos) asiáticos', 'Sake', 'Sal azul de Persia', 'Sal Kosher', 'Sal negra', 'Sal rosada del Himalaya', 'Salsa agridulce china', 'Salsa Barbacoa', 'Salsa Chakalaka', 'Salsa de alubias picante', 'Salsa de ciruelas china', 'Salsa de menta', 'Salsa de mostaza', 'Salsa de ostras', 'Salsa de pescado', 'Salsa de sésamo para shabu', 'Salsa de soja', 'Salsa de soja ligera', 'Salsa de Soja Oscura', 'Salsa Encona', 'Salsa Galbi o Kalbi', 'Salsa Harissa', 'Salsa Hoisin', 'Salsa mexicana', 'Salsa o aliño para poke', 'Salsa para sukiyaki', 'Salsa para tempura', 'Salsa picante El Yucateco', 'Salsa Ponzu', 'Salsa Sriracha', 'Salsa tamari', 'Salsa Teriyaki', 'Salsa tonkatsu', 'Salsa Unagi', 'Salsa verde mexicana', 'Salsa Worcestershire', 'Salsa yakitori', 'Salsas de chiles', 'Salsas famosas', 'Salsifí', 'Sambal', 'Sansho', 'Seitán', 'Semillas de loto', 'Sémola de trigo', 'Serpol', 'Setas deshidratadas de España', 'Setas shiitake', 'Shichimi', 'Shiso', 'Sirope de jengibre', 'Skyr', 'Soba', 'Soja', 'Soja texturizada', 'Somen', 'Tahina', 'Takuan o danmuji', 'Tallarines de arroz', 'Tapioca', 'Té Gunpowder', 'Té matcha', 'Té Oolong', 'Teff', 'Tirabeques', 'Tofu', 'Tortillas de maíz mexicanas', 'Tortillas de trigo mexicanas', 'Trigo mote', 'Tripa natural', 'Trufa', 'Tsukemono, los encurtidos japoneses', 'Tteokbokki', 'Udon', 'Vinagre', 'Vinagre de arroz', 'Vinagre de vino tinto', 'Vinagre destilado', 'Vinagre negro', 'Vinagre preparado para sushi', 'Vino de arroz', 'Vino de arroz Shaoxing', 'Vino de Marsala', 'Vino Mirín', 'Virutas de madera para aromatizar cerveza', 'Virutas y serrín para ahumar', 'Wakame', 'Wasabi', 'Yaca', 'Yuca', 'Zaatar']\n"
          ]
        }
      ]
    }
  ]
}