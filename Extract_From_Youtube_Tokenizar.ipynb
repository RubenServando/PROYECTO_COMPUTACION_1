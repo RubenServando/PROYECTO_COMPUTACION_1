{
  "nbformat": 4,
  "nbformat_minor": 0,
  "metadata": {
    "colab": {
      "provenance": [],
      "include_colab_link": true
    },
    "kernelspec": {
      "name": "python3",
      "display_name": "Python 3"
    },
    "language_info": {
      "name": "python"
    }
  },
  "cells": [
    {
      "cell_type": "markdown",
      "metadata": {
        "id": "view-in-github",
        "colab_type": "text"
      },
      "source": [
        "<a href=\"https://colab.research.google.com/github/RubenServando/PROYECTO_COMPUTACION_1/blob/etl-spanish-submition/Extract_From_Youtube_Tokenizar.ipynb\" target=\"_parent\"><img src=\"https://colab.research.google.com/assets/colab-badge.svg\" alt=\"Open In Colab\"/></a>"
      ]
    },
    {
      "cell_type": "code",
      "source": [
        "!pip install -q youtube_transcript_api"
      ],
      "metadata": {
        "id": "bTYG0z838tMz"
      },
      "execution_count": 1,
      "outputs": []
    },
    {
      "cell_type": "code",
      "execution_count": 2,
      "metadata": {
        "colab": {
          "base_uri": "https://localhost:8080/"
        },
        "id": "B6eGIZdb8YfB",
        "outputId": "e541a209-2b26-4fae-f60a-6366758c5192"
      },
      "outputs": [
        {
          "output_type": "stream",
          "name": "stdout",
          "text": [
            "9cFaRei-F20&ab_channel\n"
          ]
        }
      ],
      "source": [
        "from youtube_transcript_api import YouTubeTranscriptApi\n",
        "\n",
        "youtube_video = \"https://www.youtube.com/watch?v=9cFaRei-F20&ab_channel=hispacocina\"\n",
        "video_id = youtube_video.split(\"=\")[1]\n",
        "\n",
        "print(video_id)"
      ]
    },
    {
      "cell_type": "code",
      "source": [
        "try:\n",
        "  transcript = YouTubeTranscriptApi.get_transcript(video_id, languages=['es'])\n",
        "  result = \"\"\n",
        "  for i in transcript:\n",
        "    result += ' ' + i['text']\n",
        "  text = result.split() \n",
        "  print(text)\n",
        "  print(len(text))\n",
        "except:\n",
        "  print(\"Ocurrió un error en la transcripción\")\n",
        "\n"
      ],
      "metadata": {
        "colab": {
          "base_uri": "https://localhost:8080/"
        },
        "id": "kUCe9Y839ueR",
        "outputId": "3d4f2bec-36b8-4913-b85d-2159282073bb"
      },
      "execution_count": 14,
      "outputs": [
        {
          "output_type": "stream",
          "name": "stdout",
          "text": [
            "['salmorejo', 'cordobés', 'casi', 'nada', 'es', 'una', 'sopa', 'fría', 'basada', 'en', 'tomate', 'de', 'un', 'sabor', 'créeme', 'delicioso', 'estoy', 'picando', 'un', 'poco', 'de', 'ajo', 'para', 'reservar', 'luego', 'después', 'vamos', 'a', 'usarlo', 'ahora', 'estoy', 'troceando', 'el', 'pan', 'lo', 'mejor', 'por', 'usar', 'pan', 'de', 'telera', 'yo', 'no', 'lo', 'tengo', 'si', 'tenéis', 'un', 'pan', 'candeal', 'también', 'valdría', 'el', 'pan', 'debe', 'ser', 'del', 'día', 'anterior', 'a', 'lo', 'que', 'llamamos', 'en', 'cocina', 'pan', 'asentado', 'vamos', 'a', 'quitar', 'el', 'pedúnculo', 'a', 'los', 'tomates', 'pedúnculo', 'qué', 'nombre', 'más', 'raro', 'pero', 'bueno', 'se', 'lo', 'quitamos', 'digamos', 'vamos', 'a', 'usar', 'tomates', 'muy', 'maduros', 'eso', 'sí', 'que', 'es', 'importante', 'para', 'esta', 'receta', 'tomatitos', 'muy', 'maduros', 'vamos', 'a', 'partir', 'vamos', 'a', 'trocear', 'y', 'ya', 'veis', 'que', 'no', 'le', 'quita', 'ni', 'semillas', 'ni', 'piel', 'y', 'nada', 'de', 'esto', 'porque', 'luego', 'después', 'lo', 'vamos', 'a', 'colar', 'york', 'diría', 'es', 'una', 'receta', 'que', 'está', 'basada', 'en', 'el', 'sabor', 'del', 'tomate', 'usa', 'un', 'tomate', 'bueno', 'hay', 'un', '6', 'eso', 'que', 'son', 'todos', 'iguales', 'que', 'parecen', 'volar', 'del', 'villar', 'vale', 'si', 'tenemos', 'algún', 'tomate', 'de', 'la', 'tierra', 'venga', 'venga', 'con', 'el', 'que', 'nos', 'va', 'a', 'dar', 'mejor', 'sabor', 'bueno', 'vamos', 'a', 'triturar', 'todo', 'esto', 'y', 'vamos', 'a', 'titular', 'no', 'muy', 'con', 'paciencia', 'vamos', 'a', 'dejar', 'una', 'mezquita', 'muy', 'fina', 'estamos', 'haciendo', 'salmorejo', 'no', 'confundas', 'con', 'el', 'gazpacho', 'es', 'semejante', 'pero', 'si', 'las', 'dos', 'recetas', 'están', 'bien', 'hechas', 'es', 'simple', 'cante', 'y', 'de', 'sabores', 'totalmente', 'distinto', 'y', 'también', 'está', 'bajo', 'blanco', 'que', 'sustraen', 'las', 'súper', 'frías', 'extraordinarios', 'que', 'tenemos', 'aquí', 'en', 'españa', 'sobre', 'todo', 'en', 'la', 'región', 'de', 'andalucía', 'que', 'tiene', 'una', 'gastronomía', 'exquisita', 'bueno', 'ahora', 'estamos', 'como', 'veis', 'colando', 'el', 'tomate', 'triturado', 'es', 'importante', 'como', 'os', 'decía', 'que', 'tomate', 'se', 'ha', 'fijado', 'que', 'con', 'los', 'tiene', 'que', 'someterse', 'a', 'muy', 'maduro', 'pero', 'que', 'no', 'va', 'a', 'dar', 'un', 'colorcito', 'y', 'un', 'sabor', 'verdad', 'porque', 'tomate', 'maduro', 'va', 'tomando', 'azúcares', 'que', 'luego', 'en', 'boca', 'queda', 'vicioso', 'mirar', 'las', 'pieles', 'y', 'las', 'semillitas', 'ese', 'nos', 'hemos', 'quitado', 'aquí', 'la', 'tenéis', 'fuera', 'perfecto', 'bueno', 'pues', 'ahora', 'vamos', 'a', 'poner', 'el', 'pan', 'que', 'ya', 'nuestro', 'océano', 'lo', 'vamos', 'a', 'poner', 'aquí', 'en', 'remojo', 'como', 'es', 'un', 'pan', 'que', 'decíamos', 'que', 'estaba', 'sentado', 'el', 'tubito', 'pues', 'aquí', 'se', 'va', 'a', 'hidratar', 'y', 'se', 'va', 'a', 'quedar', 'blandito', 'vamos', 'a', 'ponerlo', 'al', 'frigorífico', 'que', 'menos', 'que', 'media', 'hora', 'para', 'que', 'se', 'quede', 'blandito', 'bueno', 'pues', 'ya', 'lo', 'tenemos', 'y', 'vamos', 'a', 'poner', 'sal', 'la', 'cuchara', 'y', 'el', 'ajo', 'que', 'antes', 'vamos', 'otra', 'vez', 'a', 'triturar', 'esta', 'comunidad', 'hito', 'poco', 'a', 'poco', 'lo', 'que', 'queremos', 'es', 'que', 'nos', 'quede', 'una', 'mezcla', 'muy', 'muy', 'muy', 'fina', 'ya', 'no', 'vamos', 'a', 'colar', 'y', 'este', 'es', 'el', 'cuerpo', 'que', 'requiere', 'el', 'salmorejo', 'que', 'vamos', 'a', 'hacer', 'ahora', 'una', 'parte', 'un', 'importante', 'que', 'es', 'la', 'de', 'poner', 'el', 'aceite', 'donde', 'un', 'buen', 'aceite', 'de', 'oliva', 'y', 'lo', 'metemos', 'en', 'hilo', 'para', 'que', 'para', 'emulsionar', 'engorde', 'esta', 'salsa', 'y', 'nos', 'coja', 'fijaros', 'este', 'clásico', 'y', 'muy', 'clásico', 'en', 'el', 'salmorejo', 'el', 'color', 'teja', 'beige', 'es', 'un', 'anaranjado', 'fuerte', 'el', 'rojillo', 'ya', 'digamos', 'tirando', 'a', 'tejado', 'nos', 'ponemos', 'un', 'papel', 'film', 'y', 'al', 'frío', 'al', 'que', 'se', 'ponga', 'fresquito', 'un', 'par', 'de', 'horas', 'bueno', 'vamos', 'a', 'ponerlo', 'en', 'una', 'jarrita', 'ya', 'está', 'fresco', 'ya', 'está', 'para', 'servir', 'y', 'vamos', 'a', 'poner', 'un', 'platito', 'bueno', 'con', 'una', 'cantidad', 'porque', 'eso', 'está', 'muy', 'rico', 'ya', 'que', 'siempre', 'será', 'una', 'cantidad', 'escasas', 'de', 'ver', 'de', 'lejos', 'a', 'guarniciones', 'y', 'vamos', 'a', 'usar', 'para', 'ellos', 'jamón', 'serrano', 'que', 'menos', 'puede', 'ser', 'un', 'jamón', 'de', 'huelva', 'por', 'ejemplo', 'y', 'una', 'amiga', 'es', 'de', 'huevo', 'cocido', 'ya', 'sé', 'que', 'me', 'decía', 'mucho', 'de', 'otros', 'y', 'es', 'que', 'aquí', 'no', 'hay', 'jamón', 'serrano', 'que', 'pueda', 'usar', 'en', 'su', 'lugar', 'pues', 'bueno', 'pues', 'quizás', 'no', 'es', 'lo', 'mismo', 'ni', 'mucho', 'menos', 'pero', 'qué', 'vamos', 'a', 'hacer', 'pues', 'un', 'poquito', 'de', 'bacon', 'bueno', 'pues', 'ya', 'lo', 'tenemos', 'fijaos', 'qué', 'platito', 'esto', 'es', 'una', 'delicia', 'de', 'verdad', 'si', 'no', 'habéis', 'probado', 'hacerlo', 'no', 'sorprenderá', 'salmorejo']\n",
            "644\n"
          ]
        }
      ]
    },
    {
      "cell_type": "code",
      "source": [
        "#tokenize con la librería NLTK\n",
        "import string\n",
        "import re\n",
        "import nltk\n",
        "import unicodedata\n",
        "from nltk.tokenize import word_tokenize\n",
        "from nltk.corpus import stopwords\n",
        "from unicodedata import normalize"
      ],
      "metadata": {
        "id": "wpV1QPex9hhH"
      },
      "execution_count": 4,
      "outputs": []
    },
    {
      "cell_type": "code",
      "source": [
        "nltk.download('stopwords')\n",
        "\n",
        "stop_words=set(stopwords.words('spanish'))"
      ],
      "metadata": {
        "colab": {
          "base_uri": "https://localhost:8080/"
        },
        "id": "Y59IwLTDDHyd",
        "outputId": "0aaacb84-b451-443b-bcf9-911a986181b6"
      },
      "execution_count": 16,
      "outputs": [
        {
          "output_type": "stream",
          "name": "stderr",
          "text": [
            "[nltk_data] Downloading package stopwords to /root/nltk_data...\n",
            "[nltk_data]   Package stopwords is already up-to-date!\n"
          ]
        }
      ]
    },
    {
      "cell_type": "code",
      "source": [
        "print(text)"
      ],
      "metadata": {
        "colab": {
          "base_uri": "https://localhost:8080/"
        },
        "id": "2Ldq6bRnLrjp",
        "outputId": "a5ef76dc-d7aa-4532-ca58-b8d25fe2fc92"
      },
      "execution_count": 21,
      "outputs": [
        {
          "output_type": "stream",
          "name": "stdout",
          "text": [
            "['salmorejo', 'cordobés', 'casi', 'nada', 'es', 'una', 'sopa', 'fría', 'basada', 'en', 'tomate', 'de', 'un', 'sabor', 'créeme', 'delicioso', 'estoy', 'picando', 'un', 'poco', 'de', 'ajo', 'para', 'reservar', 'luego', 'después', 'vamos', 'a', 'usarlo', 'ahora', 'estoy', 'troceando', 'el', 'pan', 'lo', 'mejor', 'por', 'usar', 'pan', 'de', 'telera', 'yo', 'no', 'lo', 'tengo', 'si', 'tenéis', 'un', 'pan', 'candeal', 'también', 'valdría', 'el', 'pan', 'debe', 'ser', 'del', 'día', 'anterior', 'a', 'lo', 'que', 'llamamos', 'en', 'cocina', 'pan', 'asentado', 'vamos', 'a', 'quitar', 'el', 'pedúnculo', 'a', 'los', 'tomates', 'pedúnculo', 'qué', 'nombre', 'más', 'raro', 'pero', 'bueno', 'se', 'lo', 'quitamos', 'digamos', 'vamos', 'a', 'usar', 'tomates', 'muy', 'maduros', 'eso', 'sí', 'que', 'es', 'importante', 'para', 'esta', 'receta', 'tomatitos', 'muy', 'maduros', 'vamos', 'a', 'partir', 'vamos', 'a', 'trocear', 'y', 'ya', 'veis', 'que', 'no', 'le', 'quita', 'ni', 'semillas', 'ni', 'piel', 'y', 'nada', 'de', 'esto', 'porque', 'luego', 'después', 'lo', 'vamos', 'a', 'colar', 'york', 'diría', 'es', 'una', 'receta', 'que', 'está', 'basada', 'en', 'el', 'sabor', 'del', 'tomate', 'usa', 'un', 'tomate', 'bueno', 'hay', 'un', '6', 'eso', 'que', 'son', 'todos', 'iguales', 'que', 'parecen', 'volar', 'del', 'villar', 'vale', 'si', 'tenemos', 'algún', 'tomate', 'de', 'la', 'tierra', 'venga', 'venga', 'con', 'el', 'que', 'nos', 'va', 'a', 'dar', 'mejor', 'sabor', 'bueno', 'vamos', 'a', 'triturar', 'todo', 'esto', 'y', 'vamos', 'a', 'titular', 'no', 'muy', 'con', 'paciencia', 'vamos', 'a', 'dejar', 'una', 'mezquita', 'muy', 'fina', 'estamos', 'haciendo', 'salmorejo', 'no', 'confundas', 'con', 'el', 'gazpacho', 'es', 'semejante', 'pero', 'si', 'las', 'dos', 'recetas', 'están', 'bien', 'hechas', 'es', 'simple', 'cante', 'y', 'de', 'sabores', 'totalmente', 'distinto', 'y', 'también', 'está', 'bajo', 'blanco', 'que', 'sustraen', 'las', 'súper', 'frías', 'extraordinarios', 'que', 'tenemos', 'aquí', 'en', 'españa', 'sobre', 'todo', 'en', 'la', 'región', 'de', 'andalucía', 'que', 'tiene', 'una', 'gastronomía', 'exquisita', 'bueno', 'ahora', 'estamos', 'como', 'veis', 'colando', 'el', 'tomate', 'triturado', 'es', 'importante', 'como', 'os', 'decía', 'que', 'tomate', 'se', 'ha', 'fijado', 'que', 'con', 'los', 'tiene', 'que', 'someterse', 'a', 'muy', 'maduro', 'pero', 'que', 'no', 'va', 'a', 'dar', 'un', 'colorcito', 'y', 'un', 'sabor', 'verdad', 'porque', 'tomate', 'maduro', 'va', 'tomando', 'azúcares', 'que', 'luego', 'en', 'boca', 'queda', 'vicioso', 'mirar', 'las', 'pieles', 'y', 'las', 'semillitas', 'ese', 'nos', 'hemos', 'quitado', 'aquí', 'la', 'tenéis', 'fuera', 'perfecto', 'bueno', 'pues', 'ahora', 'vamos', 'a', 'poner', 'el', 'pan', 'que', 'ya', 'nuestro', 'océano', 'lo', 'vamos', 'a', 'poner', 'aquí', 'en', 'remojo', 'como', 'es', 'un', 'pan', 'que', 'decíamos', 'que', 'estaba', 'sentado', 'el', 'tubito', 'pues', 'aquí', 'se', 'va', 'a', 'hidratar', 'y', 'se', 'va', 'a', 'quedar', 'blandito', 'vamos', 'a', 'ponerlo', 'al', 'frigorífico', 'que', 'menos', 'que', 'media', 'hora', 'para', 'que', 'se', 'quede', 'blandito', 'bueno', 'pues', 'ya', 'lo', 'tenemos', 'y', 'vamos', 'a', 'poner', 'sal', 'la', 'cuchara', 'y', 'el', 'ajo', 'que', 'antes', 'vamos', 'otra', 'vez', 'a', 'triturar', 'esta', 'comunidad', 'hito', 'poco', 'a', 'poco', 'lo', 'que', 'queremos', 'es', 'que', 'nos', 'quede', 'una', 'mezcla', 'muy', 'muy', 'muy', 'fina', 'ya', 'no', 'vamos', 'a', 'colar', 'y', 'este', 'es', 'el', 'cuerpo', 'que', 'requiere', 'el', 'salmorejo', 'que', 'vamos', 'a', 'hacer', 'ahora', 'una', 'parte', 'un', 'importante', 'que', 'es', 'la', 'de', 'poner', 'el', 'aceite', 'donde', 'un', 'buen', 'aceite', 'de', 'oliva', 'y', 'lo', 'metemos', 'en', 'hilo', 'para', 'que', 'para', 'emulsionar', 'engorde', 'esta', 'salsa', 'y', 'nos', 'coja', 'fijaros', 'este', 'clásico', 'y', 'muy', 'clásico', 'en', 'el', 'salmorejo', 'el', 'color', 'teja', 'beige', 'es', 'un', 'anaranjado', 'fuerte', 'el', 'rojillo', 'ya', 'digamos', 'tirando', 'a', 'tejado', 'nos', 'ponemos', 'un', 'papel', 'film', 'y', 'al', 'frío', 'al', 'que', 'se', 'ponga', 'fresquito', 'un', 'par', 'de', 'horas', 'bueno', 'vamos', 'a', 'ponerlo', 'en', 'una', 'jarrita', 'ya', 'está', 'fresco', 'ya', 'está', 'para', 'servir', 'y', 'vamos', 'a', 'poner', 'un', 'platito', 'bueno', 'con', 'una', 'cantidad', 'porque', 'eso', 'está', 'muy', 'rico', 'ya', 'que', 'siempre', 'será', 'una', 'cantidad', 'escasas', 'de', 'ver', 'de', 'lejos', 'a', 'guarniciones', 'y', 'vamos', 'a', 'usar', 'para', 'ellos', 'jamón', 'serrano', 'que', 'menos', 'puede', 'ser', 'un', 'jamón', 'de', 'huelva', 'por', 'ejemplo', 'y', 'una', 'amiga', 'es', 'de', 'huevo', 'cocido', 'ya', 'sé', 'que', 'me', 'decía', 'mucho', 'de', 'otros', 'y', 'es', 'que', 'aquí', 'no', 'hay', 'jamón', 'serrano', 'que', 'pueda', 'usar', 'en', 'su', 'lugar', 'pues', 'bueno', 'pues', 'quizás', 'no', 'es', 'lo', 'mismo', 'ni', 'mucho', 'menos', 'pero', 'qué', 'vamos', 'a', 'hacer', 'pues', 'un', 'poquito', 'de', 'bacon', 'bueno', 'pues', 'ya', 'lo', 'tenemos', 'fijaos', 'qué', 'platito', 'esto', 'es', 'una', 'delicia', 'de', 'verdad', 'si', 'no', 'habéis', 'probado', 'hacerlo', 'no', 'sorprenderá', 'salmorejo']\n"
          ]
        }
      ]
    },
    {
      "cell_type": "code",
      "source": [
        "# convertir a minúsculas\n",
        "tokens = [w.lower() for w in text]\n",
        "# prepare a regex para el filtrado de caracteres\n",
        "re_punc = re.compile('[%s]' % re.escape(string.punctuation))\n",
        "# eliminar la puntuación de cada palabra\n",
        "stripped = [re_punc.sub('', w) for w in tokens]\n",
        "# eliminar los tokens restantes que no estén en orden alfabético\n",
        "words = [word for word in stripped if word.isalpha()]\n",
        "# eliminar palabras invariables (stopwords)\n",
        "stop_words = set(stopwords.words('spanish'))\n",
        "words = [w for w in words if not w in stop_words]\n",
        "\n",
        "print(words)\n",
        "print(len(words))"
      ],
      "metadata": {
        "colab": {
          "base_uri": "https://localhost:8080/"
        },
        "id": "fhXaDmW4ZJB9",
        "outputId": "b2858efe-bd3d-4e55-a9e8-1d7bb360a674"
      },
      "execution_count": 7,
      "outputs": [
        {
          "output_type": "stream",
          "name": "stdout",
          "text": [
            "['salmorejo', 'cordobés', 'casi', 'sopa', 'fría', 'basada', 'tomate', 'sabor', 'créeme', 'delicioso', 'picando', 'ajo', 'reservar', 'luego', 'después', 'vamos', 'usarlo', 'ahora', 'troceando', 'pan', 'mejor', 'usar', 'pan', 'telera', 'si', 'pan', 'candeal', 'valdría', 'pan', 'debe', 'ser', 'día', 'anterior', 'llamamos', 'cocina', 'pan', 'asentado', 'vamos', 'quitar', 'pedúnculo', 'tomates', 'pedúnculo', 'nombre', 'raro', 'bueno', 'quitamos', 'digamos', 'vamos', 'usar', 'tomates', 'maduros', 'importante', 'receta', 'tomatitos', 'maduros', 'vamos', 'partir', 'vamos', 'trocear', 'veis', 'quita', 'semillas', 'piel', 'luego', 'después', 'vamos', 'colar', 'york', 'diría', 'receta', 'basada', 'sabor', 'tomate', 'usa', 'tomate', 'bueno', 'iguales', 'parecen', 'volar', 'villar', 'vale', 'si', 'algún', 'tomate', 'tierra', 'venga', 'venga', 'va', 'dar', 'mejor', 'sabor', 'bueno', 'vamos', 'triturar', 'vamos', 'titular', 'paciencia', 'vamos', 'dejar', 'mezquita', 'fina', 'haciendo', 'salmorejo', 'confundas', 'gazpacho', 'semejante', 'si', 'dos', 'recetas', 'bien', 'hechas', 'simple', 'cante', 'sabores', 'totalmente', 'distinto', 'bajo', 'blanco', 'sustraen', 'súper', 'frías', 'extraordinarios', 'aquí', 'españa', 'región', 'andalucía', 'gastronomía', 'exquisita', 'bueno', 'ahora', 'veis', 'colando', 'tomate', 'triturado', 'importante', 'decía', 'tomate', 'fijado', 'someterse', 'maduro', 'va', 'dar', 'colorcito', 'sabor', 'verdad', 'tomate', 'maduro', 'va', 'tomando', 'azúcares', 'luego', 'boca', 'queda', 'vicioso', 'mirar', 'pieles', 'semillitas', 'quitado', 'aquí', 'perfecto', 'bueno', 'pues', 'ahora', 'vamos', 'poner', 'pan', 'océano', 'vamos', 'poner', 'aquí', 'remojo', 'pan', 'decíamos', 'sentado', 'tubito', 'pues', 'aquí', 'va', 'hidratar', 'va', 'quedar', 'blandito', 'vamos', 'ponerlo', 'frigorífico', 'menos', 'media', 'hora', 'quede', 'blandito', 'bueno', 'pues', 'vamos', 'poner', 'sal', 'cuchara', 'ajo', 'vamos', 'vez', 'triturar', 'comunidad', 'hito', 'queremos', 'quede', 'mezcla', 'fina', 'vamos', 'colar', 'cuerpo', 'requiere', 'salmorejo', 'vamos', 'hacer', 'ahora', 'parte', 'importante', 'poner', 'aceite', 'buen', 'aceite', 'oliva', 'metemos', 'hilo', 'emulsionar', 'engorde', 'salsa', 'coja', 'fijaros', 'clásico', 'clásico', 'salmorejo', 'color', 'teja', 'beige', 'anaranjado', 'fuerte', 'rojillo', 'digamos', 'tirando', 'tejado', 'ponemos', 'papel', 'film', 'frío', 'ponga', 'fresquito', 'par', 'horas', 'bueno', 'vamos', 'ponerlo', 'jarrita', 'fresco', 'servir', 'vamos', 'poner', 'platito', 'bueno', 'cantidad', 'rico', 'siempre', 'cantidad', 'escasas', 'ver', 'lejos', 'guarniciones', 'vamos', 'usar', 'jamón', 'serrano', 'menos', 'puede', 'ser', 'jamón', 'huelva', 'ejemplo', 'amiga', 'huevo', 'cocido', 'sé', 'decía', 'aquí', 'jamón', 'serrano', 'pueda', 'usar', 'lugar', 'pues', 'bueno', 'pues', 'quizás', 'mismo', 'menos', 'vamos', 'hacer', 'pues', 'poquito', 'bacon', 'bueno', 'pues', 'fijaos', 'platito', 'delicia', 'verdad', 'si', 'probado', 'hacerlo', 'sorprenderá', 'salmorejo']\n",
            "309\n"
          ]
        }
      ]
    },
    {
      "cell_type": "code",
      "source": [
        "# eliminar acéntos y símbolos 'ñ'\n",
        "!pip install unidecode"
      ],
      "metadata": {
        "colab": {
          "base_uri": "https://localhost:8080/"
        },
        "id": "qXu_qZva2inw",
        "outputId": "785921c5-1991-4816-ec5f-5ed85a9f01b9"
      },
      "execution_count": 8,
      "outputs": [
        {
          "output_type": "stream",
          "name": "stdout",
          "text": [
            "Looking in indexes: https://pypi.org/simple, https://us-python.pkg.dev/colab-wheels/public/simple/\n",
            "Requirement already satisfied: unidecode in /usr/local/lib/python3.8/dist-packages (1.3.6)\n"
          ]
        }
      ]
    },
    {
      "cell_type": "code",
      "source": [
        "from unidecode import unidecode \n"
      ],
      "metadata": {
        "id": "bu4_lLHD2z-g"
      },
      "execution_count": 9,
      "outputs": []
    },
    {
      "cell_type": "code",
      "source": [
        "def remove_accents(words):\n",
        "  ascii_tokens = [unidecode(token) for token in words]\n",
        "  return ascii_tokens\n",
        "\n",
        "ascii_tokens = remove_accents(words)\n",
        "print(ascii_tokens)\n",
        "print(len(ascii_tokens))"
      ],
      "metadata": {
        "colab": {
          "base_uri": "https://localhost:8080/"
        },
        "id": "t81UOm__6MQW",
        "outputId": "bb24f28e-9bf2-4c64-85f7-13955e7ccecd"
      },
      "execution_count": 10,
      "outputs": [
        {
          "output_type": "stream",
          "name": "stdout",
          "text": [
            "['salmorejo', 'cordobes', 'casi', 'sopa', 'fria', 'basada', 'tomate', 'sabor', 'creeme', 'delicioso', 'picando', 'ajo', 'reservar', 'luego', 'despues', 'vamos', 'usarlo', 'ahora', 'troceando', 'pan', 'mejor', 'usar', 'pan', 'telera', 'si', 'pan', 'candeal', 'valdria', 'pan', 'debe', 'ser', 'dia', 'anterior', 'llamamos', 'cocina', 'pan', 'asentado', 'vamos', 'quitar', 'pedunculo', 'tomates', 'pedunculo', 'nombre', 'raro', 'bueno', 'quitamos', 'digamos', 'vamos', 'usar', 'tomates', 'maduros', 'importante', 'receta', 'tomatitos', 'maduros', 'vamos', 'partir', 'vamos', 'trocear', 'veis', 'quita', 'semillas', 'piel', 'luego', 'despues', 'vamos', 'colar', 'york', 'diria', 'receta', 'basada', 'sabor', 'tomate', 'usa', 'tomate', 'bueno', 'iguales', 'parecen', 'volar', 'villar', 'vale', 'si', 'algun', 'tomate', 'tierra', 'venga', 'venga', 'va', 'dar', 'mejor', 'sabor', 'bueno', 'vamos', 'triturar', 'vamos', 'titular', 'paciencia', 'vamos', 'dejar', 'mezquita', 'fina', 'haciendo', 'salmorejo', 'confundas', 'gazpacho', 'semejante', 'si', 'dos', 'recetas', 'bien', 'hechas', 'simple', 'cante', 'sabores', 'totalmente', 'distinto', 'bajo', 'blanco', 'sustraen', 'super', 'frias', 'extraordinarios', 'aqui', 'espana', 'region', 'andalucia', 'gastronomia', 'exquisita', 'bueno', 'ahora', 'veis', 'colando', 'tomate', 'triturado', 'importante', 'decia', 'tomate', 'fijado', 'someterse', 'maduro', 'va', 'dar', 'colorcito', 'sabor', 'verdad', 'tomate', 'maduro', 'va', 'tomando', 'azucares', 'luego', 'boca', 'queda', 'vicioso', 'mirar', 'pieles', 'semillitas', 'quitado', 'aqui', 'perfecto', 'bueno', 'pues', 'ahora', 'vamos', 'poner', 'pan', 'oceano', 'vamos', 'poner', 'aqui', 'remojo', 'pan', 'deciamos', 'sentado', 'tubito', 'pues', 'aqui', 'va', 'hidratar', 'va', 'quedar', 'blandito', 'vamos', 'ponerlo', 'frigorifico', 'menos', 'media', 'hora', 'quede', 'blandito', 'bueno', 'pues', 'vamos', 'poner', 'sal', 'cuchara', 'ajo', 'vamos', 'vez', 'triturar', 'comunidad', 'hito', 'queremos', 'quede', 'mezcla', 'fina', 'vamos', 'colar', 'cuerpo', 'requiere', 'salmorejo', 'vamos', 'hacer', 'ahora', 'parte', 'importante', 'poner', 'aceite', 'buen', 'aceite', 'oliva', 'metemos', 'hilo', 'emulsionar', 'engorde', 'salsa', 'coja', 'fijaros', 'clasico', 'clasico', 'salmorejo', 'color', 'teja', 'beige', 'anaranjado', 'fuerte', 'rojillo', 'digamos', 'tirando', 'tejado', 'ponemos', 'papel', 'film', 'frio', 'ponga', 'fresquito', 'par', 'horas', 'bueno', 'vamos', 'ponerlo', 'jarrita', 'fresco', 'servir', 'vamos', 'poner', 'platito', 'bueno', 'cantidad', 'rico', 'siempre', 'cantidad', 'escasas', 'ver', 'lejos', 'guarniciones', 'vamos', 'usar', 'jamon', 'serrano', 'menos', 'puede', 'ser', 'jamon', 'huelva', 'ejemplo', 'amiga', 'huevo', 'cocido', 'se', 'decia', 'aqui', 'jamon', 'serrano', 'pueda', 'usar', 'lugar', 'pues', 'bueno', 'pues', 'quizas', 'mismo', 'menos', 'vamos', 'hacer', 'pues', 'poquito', 'bacon', 'bueno', 'pues', 'fijaos', 'platito', 'delicia', 'verdad', 'si', 'probado', 'hacerlo', 'sorprendera', 'salmorejo']\n",
            "309\n"
          ]
        }
      ]
    }
  ]
}