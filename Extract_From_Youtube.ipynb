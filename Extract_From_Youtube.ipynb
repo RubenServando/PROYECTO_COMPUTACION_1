{
  "nbformat": 4,
  "nbformat_minor": 0,
  "metadata": {
    "colab": {
      "provenance": [],
      "include_colab_link": true
    },
    "kernelspec": {
      "name": "python3",
      "display_name": "Python 3"
    },
    "language_info": {
      "name": "python"
    }
  },
  "cells": [
    {
      "cell_type": "markdown",
      "metadata": {
        "id": "view-in-github",
        "colab_type": "text"
      },
      "source": [
        "<a href=\"https://colab.research.google.com/github/RubenServando/PROYECTO_COMPUTACION_1/blob/etl-spanish-submition/Extract_From_Youtube.ipynb\" target=\"_parent\"><img src=\"https://colab.research.google.com/assets/colab-badge.svg\" alt=\"Open In Colab\"/></a>"
      ]
    },
    {
      "cell_type": "code",
      "source": [
        "!pip install -q youtube_transcript_api"
      ],
      "metadata": {
        "id": "bTYG0z838tMz"
      },
      "execution_count": 33,
      "outputs": []
    },
    {
      "cell_type": "code",
      "execution_count": 42,
      "metadata": {
        "colab": {
          "base_uri": "https://localhost:8080/"
        },
        "id": "B6eGIZdb8YfB",
        "outputId": "6a93d383-c540-43fc-a460-61c612baeb06"
      },
      "outputs": [
        {
          "output_type": "stream",
          "name": "stdout",
          "text": [
            "L7mfjvdnPno\n"
          ]
        }
      ],
      "source": [
        "from youtube_transcript_api import YouTubeTranscriptApi\n",
        "\n",
        "youtube_video = \"https://www.youtube.com/watch?v=L7mfjvdnPno\"\n",
        "video_id = youtube_video.split(\"=\")[1]\n",
        "\n",
        "print(video_id)"
      ]
    },
    {
      "cell_type": "code",
      "source": [
        "try:\n",
        "  transcript = YouTubeTranscriptApi.get_transcript(video_id, languages=['es'])\n",
        "  result = \"\"\n",
        "  for i in transcript:\n",
        "    result += ' ' + i['text']\n",
        "  print(result)\n",
        "  #print(len(result))\n",
        "except:\n",
        "  print(\"Ocurrió un error en la transcripción\")\n",
        "\n"
      ],
      "metadata": {
        "colab": {
          "base_uri": "https://localhost:8080/"
        },
        "id": "kUCe9Y839ueR",
        "outputId": "9ea83cfa-67cd-454b-be2c-e93c451cd90a"
      },
      "execution_count": 45,
      "outputs": [
        {
          "output_type": "stream",
          "name": "stdout",
          "text": [
            "Ocurrió un error en la transcripción\n"
          ]
        }
      ]
    },
    {
      "cell_type": "code",
      "source": [
        "#transcript = transcript_list.find_transcript(['en'])\n",
        "#translated_transcript = transcript.translate('de')\n",
        "#print(translated_transcript.fetch())"
      ],
      "metadata": {
        "id": "pj3l_4dh_a3u"
      },
      "execution_count": null,
      "outputs": []
    }
  ]
}