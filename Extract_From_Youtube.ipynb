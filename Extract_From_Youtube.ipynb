{
  "nbformat": 4,
  "nbformat_minor": 0,
  "metadata": {
    "colab": {
      "provenance": [],
      "authorship_tag": "ABX9TyOFK1K+miiZC0mg06aeaHA4",
      "include_colab_link": true
    },
    "kernelspec": {
      "name": "python3",
      "display_name": "Python 3"
    },
    "language_info": {
      "name": "python"
    }
  },
  "cells": [
    {
      "cell_type": "markdown",
      "metadata": {
        "id": "view-in-github",
        "colab_type": "text"
      },
      "source": [
        "<a href=\"https://colab.research.google.com/github/RubenServando/PROYECTO_COMPUTACION_1/blob/main/Extract_From_Youtube.ipynb\" target=\"_parent\"><img src=\"https://colab.research.google.com/assets/colab-badge.svg\" alt=\"Open In Colab\"/></a>"
      ]
    },
    {
      "cell_type": "code",
      "source": [
        "!pip install -q youtube_transcript_api"
      ],
      "metadata": {
        "id": "bTYG0z838tMz"
      },
      "execution_count": null,
      "outputs": []
    },
    {
      "cell_type": "code",
      "execution_count": null,
      "metadata": {
        "colab": {
          "base_uri": "https://localhost:8080/"
        },
        "id": "B6eGIZdb8YfB",
        "outputId": "5705a7db-ea51-4120-a499-7781eaba1d34"
      },
      "outputs": [
        {
          "output_type": "stream",
          "name": "stdout",
          "text": [
            "A4OmtyaBHFE\n"
          ]
        }
      ],
      "source": [
        "from youtube_transcript_api import YouTubeTranscriptApi\n",
        "\n",
        "youtube_video = \"https://www.youtube.com/watch?v=A4OmtyaBHFE\"\n",
        "video_id = youtube_video.split(\"=\")[1]\n",
        "\n",
        "print(video_id)"
      ]
    },
    {
      "cell_type": "code",
      "source": [
        "YouTubeTranscriptApi.get_transcript(video_id, languages=['es','en'])\n",
        "transcript = YouTubeTranscriptApi.get_transcript(video_id)\n",
        "\n",
        "result = \"\"\n",
        "for i in transcript:\n",
        "    result += ' ' + i['text']\n",
        "print(result)\n",
        "#print(len(result))"
      ],
      "metadata": {
        "colab": {
          "base_uri": "https://localhost:8080/"
        },
        "id": "kUCe9Y839ueR",
        "outputId": "3928e761-70b9-4aa7-bd2a-1f0f679c0d52"
      },
      "execution_count": null,
      "outputs": [
        {
          "output_type": "stream",
          "name": "stdout",
          "text": [
            " for Germany it's the end of an era and as Europe's biggest economy there are some huge challenges ahead from its increasingly complex relationship with China to climate change all eyes will be on how Germany's new leaders grapple with these issues but there's one German industry that reveals a lot about the country's prospects it's cars traditionally the car industry here has been very powerful there have been open doors to German Ministries to the Chancery Germany's car industry is a vital part of its economy with links to government that go back decades how this world renowned motor industry navigates the challenges ahead could tell you more than you think about Germany's future [Music] the curves the Precision it's Cutting Edge engineering like this that has helped Place car makers at the heart of the German economy and the industry has proved of Bellwether for the country's future prospects too since the 70s car exports have risen with Germany's wealth and influence manufacturing is incredibly important in Germany it represents around 18 of GDP and of course the car sector represents a very large part of that it's not quite you know where the car industry goes Germany goes but the sector is absolutely crucial to the future of Germany and the future of its industrial model but that industrial model could be under threat after over half a century of global dominance German car makers are now playing catch-up and it's not just the car industry that's losing ground [Music] in 2000 seven of the world's most valuable companies were German but in the past two decades that number has fallen to just three how Germany's car makers attempt to claw back global market share could be telling for the economy as a whole foreign take international relations almost half of Germany's GDP comes from exports cars make up the biggest proportion of this who Germany Sells Cars to matters it can point to alliances or trouble Brewing [Music] since 2016 China has been Germany's biggest trading partner [Music] in 1998 German trade with China was worth 16 billion dollars now it's worth over 180 billion but there's a fear that Germany could have become too reliant on the Chinese market for the past 16 years Angela Merkel has courted China in the name of trade it's an approach that has its risks particularly now we're in this context of this emerging systemic competition between America and China at least for some people there's a worry of putting all of your eggs into the Chinese basket might leave you exposed to some of the ill Winds of geopolitics and geoeconomics that might be heading Germany in Europe's way in the coming years there is a strong sense that Germany's China policy is going to have to be recalibrated basically on pretty much every single front Germany's new leader will face the same challenge as its car industry how to keep their biggest trading partner on side without ending up in its pocket China already leads Germany in one crucial aspect of manufacturing digitalization this is not traditionally a country that has been closely associated with digital Innovation it's going to be a big challenge across the whole range of domains we look at car makers and it's you know traditionally Engineers have been at the heart of what it is that car manufacturers do making components fitting them together making them look beautiful the digital skill Setters traditionally taken a back seat and that's going to have to change and it's not just Germany's car industry that needs to modernize before the pandemic two-thirds of German businesses said they still regularly used a fax machine and only one in three German companies have a central digital strategy just eight years ago Angela Merkel became a meme when she referred to the internet as noyland the German for Uncharted Territory the next government is probably going to have to be a lot more digitally literate than the ones that Angela Merkel has led for the last 16 years and it's going to have to do a hell of a lot more to translate the rhetoric on digitalization into the reality of fostering genuine change in this country which has been severely lacking for the last couple of decades but there's an even greater challenge that could Define Germany's Global relevance climate change here Germany's car industry is a microcosm for how the country will need to radically shift traditional forms of power will need to be replaced for cars that means a race to go Electric Mobility is Oliver zipsa took over as CEO of BMW in 2019 he's overseeing one of the biggest shifts in the company's history a commitment to battery-powered cars the whole car industry is launching a lot of electric vehicles now and BMW is on the Forefront of them I think we need to speed up our efforts to keep up with the electromobility demand it's a big mark developing of course we want to increase our profitability and with the right set of components products I think that can be a very solid business Foundation climate change has forced this shift to a Greener future but it was American not German engineering that first realized it an electric car can be the best car in the world although an early investor in electric technology BMW has now fallen behind rivals in the e-car market other German car makers were slower still when it comes to fostering Innovation the country is still in second gear [Music] although disruptive innovation does exist here Germany's leaders could do more to nurture it let's see they are accelerate that's good Sono Motors is a startup based in Munich they're technically car makers but their approach is light years away from the traditional brands what we're doing is reproducing an electric vehicle that is equipped with solar cells they're one of several developers around the world trying to get a solar-powered vehicle to Market their car the Scion can share power with the grid and other cars and comes with ride sharing software built in foreign [Music] is that they're the only car company that thinks the industry should be selling fewer cars their approach could upend the industry and their ethos is emblematic of a new way of German thinking we see ourselves as a Mobility service provider it's not only about the car it's about the whole new Mobility concept we're providing cashing ride sharing power sharing a car itself solar integration solo technology we sell to others there's a whole new approach on how we think Mobility should look like in the future small companies like Sono have the vision for a Greener future but Germany's politics may make it hard to realize one of the challenges I think that you're going to see in Germany is that the next Coalition is probably going to be made up of three different parties that may well have very different ideas about how to manage the climate transition the sort of consensus oriented approach that's deeply ingrained in Germany may not look like it is particularly well suited to manage this extraordinary industrial transition that we're going to have to bring about in the years ahead so that's going to mean a very very big role for the next Chancellor and as efforts to digitize continue Germany's new leader should plan for a Workforce in need of upskilling [Music] we're going to have a massive ramp up of jobs in the battery manufacturing sector we're going to have a huge demand for coders to digital skills and competent decline in the demand for engineering skills that we've seen and as China's mic grows Germany will have to be more careful about who it gets into bed with one of the things I think for example that you're going to see in the legislative period is real investment in Europe's ability to stand on its own two feet to ensure that it is not excessively exposed to the risks that could come from a stepping up of the strategic competition between America and China Merkel was careful not to scare voters with talk of transformation but that's left Germany's new Leaders with a lot to do Germany has to do better right we have those very big companies this very big players here but they aren't the disruptor the driver behind in Innovation disruption comes always for me new Young companies which Drive change German startups rarely grow into Tech Giants without making changes Germany risks losing competitiveness throughout its economy there's a nice German word kite which is roughly translated as the ability to face the future a lot of people looking at these challenges of starting to wonder how zucchum's feig Germany really is and this really is going to be a big challenge not only for the next Chancellor but for the government that he or she is going to lead because a lot of people think that Germany isn't really ready and that it will need to act quite quickly across a whole range of domains in order to meet these challenges head on thanks for watching to read the economist's assessment of Germany's future after Angela Merkel click the link and don't forget to subscribe\n"
          ]
        }
      ]
    },
    {
      "cell_type": "code",
      "source": [
        "#transcript = transcript_list.find_transcript(['en'])\n",
        "#translated_transcript = transcript.translate('de')\n",
        "#print(translated_transcript.fetch())"
      ],
      "metadata": {
        "id": "pj3l_4dh_a3u"
      },
      "execution_count": null,
      "outputs": []
    }
  ]
}