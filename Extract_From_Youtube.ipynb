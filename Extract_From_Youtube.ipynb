{
  "nbformat": 4,
  "nbformat_minor": 0,
  "metadata": {
    "colab": {
      "provenance": [],
      "include_colab_link": true
    },
    "kernelspec": {
      "name": "python3",
      "display_name": "Python 3"
    },
    "language_info": {
      "name": "python"
    }
  },
  "cells": [
    {
      "cell_type": "markdown",
      "metadata": {
        "id": "view-in-github",
        "colab_type": "text"
      },
      "source": [
        "<a href=\"https://colab.research.google.com/github/RubenServando/PROYECTO_COMPUTACION_1/blob/etl-spanish-submition/Extract_From_Youtube.ipynb\" target=\"_parent\"><img src=\"https://colab.research.google.com/assets/colab-badge.svg\" alt=\"Open In Colab\"/></a>"
      ]
    },
    {
      "cell_type": "code",
      "source": [
        "!pip install -q youtube_transcript_api"
      ],
      "metadata": {
        "id": "bTYG0z838tMz"
      },
      "execution_count": 1,
      "outputs": []
    },
    {
      "cell_type": "code",
      "execution_count": 6,
      "metadata": {
        "colab": {
          "base_uri": "https://localhost:8080/"
        },
        "id": "B6eGIZdb8YfB",
        "outputId": "c23b9020-725d-408d-bb30-89a3405fcef2"
      },
      "outputs": [
        {
          "output_type": "stream",
          "name": "stdout",
          "text": [
            "foZJ7DLOeHE&ab\n"
          ]
        }
      ],
      "source": [
        "from youtube_transcript_api import YouTubeTranscriptApi\n",
        "\n",
        "youtube_video = \"https://www.youtube.com/watch?v=foZJ7DLOeHE&ab\"\n",
        "video_id = youtube_video.split(\"=\")[1]\n",
        "\n",
        "print(video_id)"
      ]
    },
    {
      "cell_type": "code",
      "source": [
        "try:\n",
        "  transcript = YouTubeTranscriptApi.get_transcript(video_id, languages=['es'])\n",
        "  result = \"\"\n",
        "  for i in transcript:\n",
        "    result += ' ' + i['text']\n",
        "  a = result.split()\n",
        "  print(a)\n",
        "  \n",
        "  #print(len(result))\n",
        "except:\n",
        "  print(\"Ocurrió un error en la transcripción\")\n",
        "\n"
      ],
      "metadata": {
        "colab": {
          "base_uri": "https://localhost:8080/"
        },
        "id": "kUCe9Y839ueR",
        "outputId": "34faa356-33b9-4f98-9a58-1522d5cce099"
      },
      "execution_count": 13,
      "outputs": [
        {
          "output_type": "stream",
          "name": "stdout",
          "text": [
            "['[Música]', 'hola', 'a', 'todas', 'ya', 'todos', 'y', 'bienvenidos', 'de', 'nuevo', 'a', 'mi', 'canal', 'de', 'cocina', 'hoy', 'vamos', 'a', 'hacer', 'crepes', 'después', 'de', 'probar', 'bastantes', 'recetas', 'creo', 'que', 'ha', 'llegado', 'la', 'que', 'para', 'mí', 'es', 'la', 'mejor', 'espero', 'que', 'ustedes', 'también', 'la', 'disfruten', 'es', 'súper', 'fácil', 'y', 'para', 'un', 'día', 'de', 'capricho', 'viene', 'genial', 'y', 'ahora', 'sí', 'vamos', 'con', 'la', 'receta', '[Música]', 'los', 'ingredientes', 'que', 'vamos', 'a', 'necesitar', 'para', 'unos', '5', 'crepes', 'grandes', 'son', '140', 'gramos', 'de', 'harina', 'de', 'trigo', '220', 'mil', 'litros', 'de', 'leche', 'entera', 'dos', 'huevos', 'm', 'una', 'cucharada', 'de', 'azúcar', 'una', 'cucharada', 'de', 'aceite', 'de', 'oliva', 'y', 'un', 'poco', 'más', 'para', 'engrasar', 'la', 'sartén', 'y', 'una', 'pizca', 'de', 'sal', '[Música]', 'los', 'pasos', 'para', 'esta', 'receta', 'son', 'super', 'sencillos', 'lo', 'primero', 'que', 'vamos', 'a', 'hacer', 'es', 'poner', 'en', 'un', 'vaso', 'de', 'batidora', 'todos', 'los', 'ingredientes', 'los', 'líquidos', 'que', 'son', 'los', 'huevos', '[Música]', 'la', 'leche', 'y', 'el', 'aceite', 'de', 'oliva', 'y', 'los', 'sólidos', 'una', 'pizca', 'de', 'sal', 'el', 'azúcar', 'y', 'la', 'harina', 'batimos', 'bien', 'hasta', 'obtener', 'una', 'masa', 'homogénea', '[Música]', 'una', 'vez', 'la', 'tengamos', 'lista', 'podemos', 'usarla', 'al', 'momento', 'pero', 'lo', 'mejor', 'es', 'dejarla', 'reposar', 'un', 'poco', 'en', 'la', 'nevera', 'cuando', 'los', 'vayamos', 'a', 'consumir', 'ponemos', 'una', 'sartén', 'al', 'fuego', 'con', 'unas', 'gotitas', 'de', 'aceite', 'y', 'una', 'vez', 'caliente', 'echamos', 'un', 'chorrito', 'de', 'la', 'mezcla', 'y', 'movemos', 'la', 'sartén', 'girando', 'para', 'que', 'se', 'extienda', 'la', 'masa', 'deben', 'hacerse', 'a', 'fuego', 'medio-alto', '[Música]', 'cuando', 'ya', 'no', 'se', 'vea', 'líquido', 'le', 'damos', 'la', 'vuelta', 'y', 'lo', 'dejamos', 'unos', 'minutitos', 'a', 'mi', 'medio', 'la', 'masa', 'para', '5', 'crepes', 'pero', 'depende', 'del', 'tamaño', 'y', 'el', 'grosor', 'que', 'las', 'haga', 'yo', 'lo', 'he', 'hecho', 'en', 'una', 'sartén', 'grande', 'los', 'crepes', 'se', 'pueden', 'apilar', 'sin', 'problema', 'porque', 'no', 'se', 'pegan', '[Música]', 'se', 'comen', 'calientes', 'así', 'que', 'nada', 'más', 'acabar', 'con', 'la', 'mezcla', 'se', 'deben', 'consumir', 'los', 'pueden', 'servir', 'con', 'lo', 'que', 'más', 'te', 'guste', 'yo', 'le', 'he', 'puesto', 'nocilla', 'y', 'plátano', 'y', 'ya', 'estarían', 'nuestros', 'crepes', 'espero', 'que', 'pongan', 'en', 'práctica', 'mi', 'receta', 'si', 'es', 'así', 'me', 'pueden', 'dejar', 'en', 'comentarios', 'que', 'les', 'ha', 'parecido', 'también', 'se', 'pueden', 'suscribir', 'a', 'mi', 'canal', 'para', 'más', 'vídeos', 'nos', 'vemos', 'el', 'miércoles', 'que', 'viene', 'con', 'una', 'nueva', 'receta', '[Música]']\n"
          ]
        }
      ]
    },
    {
      "cell_type": "code",
      "source": [
        "#transcript = transcript_list.find_transcript(['en'])\n",
        "#translated_transcript = transcript.translate('de')\n",
        "#print(translated_transcript.fetch())"
      ],
      "metadata": {
        "id": "pj3l_4dh_a3u"
      },
      "execution_count": null,
      "outputs": []
    }
  ]
}